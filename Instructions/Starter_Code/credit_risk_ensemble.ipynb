{
 "cells": [
  {
   "cell_type": "markdown",
   "metadata": {},
   "source": [
    "# Ensemble Learning\n",
    "\n",
    "## Initial Imports"
   ]
  },
  {
   "cell_type": "code",
   "execution_count": 47,
   "metadata": {},
   "outputs": [],
   "source": [
    "import warnings\n",
    "warnings.filterwarnings('ignore')"
   ]
  },
  {
   "cell_type": "code",
   "execution_count": 48,
   "metadata": {},
   "outputs": [],
   "source": [
    "import numpy as np\n",
    "import pandas as pd\n",
    "from pathlib import Path\n",
    "from collections import Counter"
   ]
  },
  {
   "cell_type": "code",
   "execution_count": 49,
   "metadata": {},
   "outputs": [],
   "source": [
    "from sklearn.metrics import balanced_accuracy_score\n",
    "from sklearn.metrics import confusion_matrix\n",
    "from imblearn.metrics import classification_report_imbalanced\n",
    "from sklearn.metrics import accuracy_score, classification_report\n",
    "from sklearn.preprocessing import LabelEncoder, StandardScaler\n",
    "from sklearn.ensemble import RandomForestClassifier\n",
    "from imblearn.ensemble import EasyEnsembleClassifier\n",
    "from sklearn.model_selection import train_test_split"
   ]
  },
  {
   "cell_type": "markdown",
   "metadata": {},
   "source": [
    "## Read the CSV and Perform Basic Data Cleaning"
   ]
  },
  {
   "cell_type": "code",
   "execution_count": 73,
   "metadata": {},
   "outputs": [],
   "source": [
    "\n",
    "\n",
    "columns = [\n",
    "    \"loan_amnt\", \"int_rate\", \"installment\",\"home_ownership\",\n",
    "    \"annual_inc\", \"verification_status\", \"issue_d\",\n",
    "    \"loan_status\", \"pymnt_plan\", \"dti\", \"delinq_2yrs\",\n",
    "    \"inq_last_6mths\", \"open_acc\", \"pub_rec\", \"revol_bal\",\n",
    "    \"total_acc\", \"initial_list_status\", \"out_prncp\",\n",
    "    \"out_prncp_inv\", \"total_pymnt\", \"total_pymnt_inv\", \n",
    "    \"total_rec_prncp\", \"total_rec_int\", \"total_rec_late_fee\", \n",
    "    \"recoveries\", \"collection_recovery_fee\", \"last_pymnt_amnt\",\n",
    "    \"next_pymnt_d\", \"collections_12_mths_ex_med\", \"policy_code\",\n",
    "    \"application_type\", \"acc_now_delinq\", \"tot_coll_amt\", \"tot_cur_bal\",\n",
    "    \"open_acc_6m\", \"open_act_il\", \"open_il_12m\", \"open_il_24m\", \"mths_since_rcnt_il\",\n",
    "    \"total_bal_il\", \"il_util\", \"open_rv_12m\", \"open_rv_24m\", \"max_bal_bc\",\n",
    "    \"all_util\", \"total_rev_hi_lim\", \"inq_fi\", \"total_cu_tl\", \"inq_last_12m\", \"acc_open_past_24mths\",\n",
    "    \"avg_cur_bal\", \"bc_open_to_buy\", \"bc_util\", \"chargeoff_within_12_mths\", \"delinq_amnt\", \"mo_sin_old_il_acct\",\n",
    "    \"mo_sin_old_rev_tl_op\", \"mo_sin_rcnt_rev_tl_op\", \"mo_sin_rcnt_tl\", \"mort_acc\", \"mths_since_recent_bc\", \n",
    "    \"mths_since_recent_inq\", \"num_accts_ever_120_pd\", \"num_actv_bc_tl\", \"num_actv_rev_tl\", \"num_bc_sats\", \n",
    "    \"num_bc_tl\", \"num_il_tl\", \"num_op_rev_tl\", \"num_rev_accts\", \"num_rev_tl_bal_gt_0\", \"num_sats\", \n",
    "    \"num_tl_120dpd_2m\", \"num_tl_30dpd\", \"num_tl_90g_dpd_24m\", \"num_tl_op_past_12m\", \"pct_tl_nvr_dlq\",\n",
    "    \"percent_bc_gt_75\", \"pub_rec_bankruptcies\", \"tax_liens\", \"tot_hi_cred_lim\", \"total_bal_ex_mort\", \"total_bc_limit\", \n",
    "    \"total_il_high_credit_limit\", \"hardship_flag\", \"debt_settlement_flag\"\n",
    "\n",
    "]\n",
    "\n",
    "target = [\"loan_status\"]"
   ]
  },
  {
   "cell_type": "code",
   "execution_count": 51,
   "metadata": {},
   "outputs": [
    {
     "data": {
      "text/plain": [
       "'C:\\\\Users\\\\rmwil\\\\OneDrive\\\\desktop\\\\Classwork\\\\11---Machine-Learning\\\\Instructions\\\\Starter_Code'"
      ]
     },
     "execution_count": 51,
     "metadata": {},
     "output_type": "execute_result"
    }
   ],
   "source": [
    "pwd"
   ]
  },
  {
   "cell_type": "code",
   "execution_count": 52,
   "metadata": {},
   "outputs": [
    {
     "data": {
      "text/html": [
       "<div>\n",
       "<style scoped>\n",
       "    .dataframe tbody tr th:only-of-type {\n",
       "        vertical-align: middle;\n",
       "    }\n",
       "\n",
       "    .dataframe tbody tr th {\n",
       "        vertical-align: top;\n",
       "    }\n",
       "\n",
       "    .dataframe thead th {\n",
       "        text-align: right;\n",
       "    }\n",
       "</style>\n",
       "<table border=\"1\" class=\"dataframe\">\n",
       "  <thead>\n",
       "    <tr style=\"text-align: right;\">\n",
       "      <th></th>\n",
       "      <th>loan_amnt</th>\n",
       "      <th>int_rate</th>\n",
       "      <th>installment</th>\n",
       "      <th>home_ownership</th>\n",
       "      <th>annual_inc</th>\n",
       "      <th>verification_status</th>\n",
       "      <th>loan_status</th>\n",
       "      <th>pymnt_plan</th>\n",
       "      <th>dti</th>\n",
       "      <th>delinq_2yrs</th>\n",
       "      <th>...</th>\n",
       "      <th>pct_tl_nvr_dlq</th>\n",
       "      <th>percent_bc_gt_75</th>\n",
       "      <th>pub_rec_bankruptcies</th>\n",
       "      <th>tax_liens</th>\n",
       "      <th>tot_hi_cred_lim</th>\n",
       "      <th>total_bal_ex_mort</th>\n",
       "      <th>total_bc_limit</th>\n",
       "      <th>total_il_high_credit_limit</th>\n",
       "      <th>hardship_flag</th>\n",
       "      <th>debt_settlement_flag</th>\n",
       "    </tr>\n",
       "    <tr>\n",
       "      <th>issue_d</th>\n",
       "      <th></th>\n",
       "      <th></th>\n",
       "      <th></th>\n",
       "      <th></th>\n",
       "      <th></th>\n",
       "      <th></th>\n",
       "      <th></th>\n",
       "      <th></th>\n",
       "      <th></th>\n",
       "      <th></th>\n",
       "      <th></th>\n",
       "      <th></th>\n",
       "      <th></th>\n",
       "      <th></th>\n",
       "      <th></th>\n",
       "      <th></th>\n",
       "      <th></th>\n",
       "      <th></th>\n",
       "      <th></th>\n",
       "      <th></th>\n",
       "      <th></th>\n",
       "    </tr>\n",
       "  </thead>\n",
       "  <tbody>\n",
       "    <tr>\n",
       "      <th>2019-03-01</th>\n",
       "      <td>10500.0</td>\n",
       "      <td>0.1719</td>\n",
       "      <td>375.35</td>\n",
       "      <td>RENT</td>\n",
       "      <td>66000.0</td>\n",
       "      <td>Source Verified</td>\n",
       "      <td>low_risk</td>\n",
       "      <td>n</td>\n",
       "      <td>27.24</td>\n",
       "      <td>0.0</td>\n",
       "      <td>...</td>\n",
       "      <td>85.7</td>\n",
       "      <td>100.0</td>\n",
       "      <td>0.0</td>\n",
       "      <td>0.0</td>\n",
       "      <td>65687.0</td>\n",
       "      <td>38199.0</td>\n",
       "      <td>2000.0</td>\n",
       "      <td>61987.0</td>\n",
       "      <td>N</td>\n",
       "      <td>N</td>\n",
       "    </tr>\n",
       "    <tr>\n",
       "      <th>2019-03-01</th>\n",
       "      <td>25000.0</td>\n",
       "      <td>0.2000</td>\n",
       "      <td>929.09</td>\n",
       "      <td>MORTGAGE</td>\n",
       "      <td>105000.0</td>\n",
       "      <td>Verified</td>\n",
       "      <td>low_risk</td>\n",
       "      <td>n</td>\n",
       "      <td>20.23</td>\n",
       "      <td>0.0</td>\n",
       "      <td>...</td>\n",
       "      <td>91.2</td>\n",
       "      <td>50.0</td>\n",
       "      <td>1.0</td>\n",
       "      <td>0.0</td>\n",
       "      <td>271427.0</td>\n",
       "      <td>60641.0</td>\n",
       "      <td>41200.0</td>\n",
       "      <td>49197.0</td>\n",
       "      <td>N</td>\n",
       "      <td>N</td>\n",
       "    </tr>\n",
       "    <tr>\n",
       "      <th>2019-03-01</th>\n",
       "      <td>20000.0</td>\n",
       "      <td>0.2000</td>\n",
       "      <td>529.88</td>\n",
       "      <td>MORTGAGE</td>\n",
       "      <td>56000.0</td>\n",
       "      <td>Verified</td>\n",
       "      <td>low_risk</td>\n",
       "      <td>n</td>\n",
       "      <td>24.26</td>\n",
       "      <td>0.0</td>\n",
       "      <td>...</td>\n",
       "      <td>66.7</td>\n",
       "      <td>50.0</td>\n",
       "      <td>0.0</td>\n",
       "      <td>0.0</td>\n",
       "      <td>60644.0</td>\n",
       "      <td>45684.0</td>\n",
       "      <td>7500.0</td>\n",
       "      <td>43144.0</td>\n",
       "      <td>N</td>\n",
       "      <td>N</td>\n",
       "    </tr>\n",
       "    <tr>\n",
       "      <th>2019-03-01</th>\n",
       "      <td>10000.0</td>\n",
       "      <td>0.1640</td>\n",
       "      <td>353.55</td>\n",
       "      <td>RENT</td>\n",
       "      <td>92000.0</td>\n",
       "      <td>Verified</td>\n",
       "      <td>low_risk</td>\n",
       "      <td>n</td>\n",
       "      <td>31.44</td>\n",
       "      <td>0.0</td>\n",
       "      <td>...</td>\n",
       "      <td>100.0</td>\n",
       "      <td>50.0</td>\n",
       "      <td>1.0</td>\n",
       "      <td>0.0</td>\n",
       "      <td>99506.0</td>\n",
       "      <td>68784.0</td>\n",
       "      <td>19700.0</td>\n",
       "      <td>76506.0</td>\n",
       "      <td>N</td>\n",
       "      <td>N</td>\n",
       "    </tr>\n",
       "    <tr>\n",
       "      <th>2019-03-01</th>\n",
       "      <td>22000.0</td>\n",
       "      <td>0.1474</td>\n",
       "      <td>520.39</td>\n",
       "      <td>MORTGAGE</td>\n",
       "      <td>52000.0</td>\n",
       "      <td>Not Verified</td>\n",
       "      <td>low_risk</td>\n",
       "      <td>n</td>\n",
       "      <td>18.76</td>\n",
       "      <td>0.0</td>\n",
       "      <td>...</td>\n",
       "      <td>100.0</td>\n",
       "      <td>0.0</td>\n",
       "      <td>0.0</td>\n",
       "      <td>0.0</td>\n",
       "      <td>219750.0</td>\n",
       "      <td>25919.0</td>\n",
       "      <td>27600.0</td>\n",
       "      <td>20000.0</td>\n",
       "      <td>N</td>\n",
       "      <td>N</td>\n",
       "    </tr>\n",
       "  </tbody>\n",
       "</table>\n",
       "<p>5 rows × 85 columns</p>\n",
       "</div>"
      ],
      "text/plain": [
       "            loan_amnt  int_rate  installment home_ownership  annual_inc  \\\n",
       "issue_d                                                                   \n",
       "2019-03-01    10500.0    0.1719       375.35           RENT     66000.0   \n",
       "2019-03-01    25000.0    0.2000       929.09       MORTGAGE    105000.0   \n",
       "2019-03-01    20000.0    0.2000       529.88       MORTGAGE     56000.0   \n",
       "2019-03-01    10000.0    0.1640       353.55           RENT     92000.0   \n",
       "2019-03-01    22000.0    0.1474       520.39       MORTGAGE     52000.0   \n",
       "\n",
       "           verification_status loan_status pymnt_plan    dti  delinq_2yrs  \\\n",
       "issue_d                                                                     \n",
       "2019-03-01     Source Verified    low_risk          n  27.24          0.0   \n",
       "2019-03-01            Verified    low_risk          n  20.23          0.0   \n",
       "2019-03-01            Verified    low_risk          n  24.26          0.0   \n",
       "2019-03-01            Verified    low_risk          n  31.44          0.0   \n",
       "2019-03-01        Not Verified    low_risk          n  18.76          0.0   \n",
       "\n",
       "            ...  pct_tl_nvr_dlq  percent_bc_gt_75  pub_rec_bankruptcies  \\\n",
       "issue_d     ...                                                           \n",
       "2019-03-01  ...            85.7             100.0                   0.0   \n",
       "2019-03-01  ...            91.2              50.0                   1.0   \n",
       "2019-03-01  ...            66.7              50.0                   0.0   \n",
       "2019-03-01  ...           100.0              50.0                   1.0   \n",
       "2019-03-01  ...           100.0               0.0                   0.0   \n",
       "\n",
       "            tax_liens  tot_hi_cred_lim total_bal_ex_mort  total_bc_limit  \\\n",
       "issue_d                                                                    \n",
       "2019-03-01        0.0          65687.0           38199.0          2000.0   \n",
       "2019-03-01        0.0         271427.0           60641.0         41200.0   \n",
       "2019-03-01        0.0          60644.0           45684.0          7500.0   \n",
       "2019-03-01        0.0          99506.0           68784.0         19700.0   \n",
       "2019-03-01        0.0         219750.0           25919.0         27600.0   \n",
       "\n",
       "            total_il_high_credit_limit  hardship_flag  debt_settlement_flag  \n",
       "issue_d                                                                      \n",
       "2019-03-01                     61987.0              N                     N  \n",
       "2019-03-01                     49197.0              N                     N  \n",
       "2019-03-01                     43144.0              N                     N  \n",
       "2019-03-01                     76506.0              N                     N  \n",
       "2019-03-01                     20000.0              N                     N  \n",
       "\n",
       "[5 rows x 85 columns]"
      ]
     },
     "execution_count": 52,
     "metadata": {},
     "output_type": "execute_result"
    }
   ],
   "source": [
    "# Load the data\n",
    "file_path = Path('Resources/LoanStats_2019Q1.csv')\n",
    "df = pd.read_csv(file_path, index_col=\"issue_d\", parse_dates=True, infer_datetime_format=True)\n",
    "\n",
    "\n",
    "\n",
    "\n",
    "df.head()"
   ]
  },
  {
   "cell_type": "code",
   "execution_count": 54,
   "metadata": {},
   "outputs": [
    {
     "name": "stdout",
     "output_type": "stream",
     "text": [
      "<class 'pandas.core.frame.DataFrame'>\n",
      "DatetimeIndex: 68817 entries, 2019-03-01 to 2019-01-01\n",
      "Data columns (total 93 columns):\n",
      " #   Column                               Non-Null Count  Dtype  \n",
      "---  ------                               --------------  -----  \n",
      " 0   loan_amnt                            68817 non-null  float64\n",
      " 1   int_rate                             68817 non-null  float64\n",
      " 2   installment                          68817 non-null  float64\n",
      " 3   annual_inc                           68817 non-null  float64\n",
      " 4   loan_status                          68817 non-null  object \n",
      " 5   dti                                  68817 non-null  float64\n",
      " 6   delinq_2yrs                          68817 non-null  float64\n",
      " 7   inq_last_6mths                       68817 non-null  float64\n",
      " 8   open_acc                             68817 non-null  float64\n",
      " 9   pub_rec                              68817 non-null  float64\n",
      " 10  revol_bal                            68817 non-null  float64\n",
      " 11  total_acc                            68817 non-null  float64\n",
      " 12  out_prncp                            68817 non-null  float64\n",
      " 13  out_prncp_inv                        68817 non-null  float64\n",
      " 14  total_pymnt                          68817 non-null  float64\n",
      " 15  total_pymnt_inv                      68817 non-null  float64\n",
      " 16  total_rec_prncp                      68817 non-null  float64\n",
      " 17  total_rec_int                        68817 non-null  float64\n",
      " 18  total_rec_late_fee                   68817 non-null  float64\n",
      " 19  recoveries                           68817 non-null  float64\n",
      " 20  collection_recovery_fee              68817 non-null  float64\n",
      " 21  last_pymnt_amnt                      68817 non-null  float64\n",
      " 22  collections_12_mths_ex_med           68817 non-null  float64\n",
      " 23  policy_code                          68817 non-null  float64\n",
      " 24  acc_now_delinq                       68817 non-null  float64\n",
      " 25  tot_coll_amt                         68817 non-null  float64\n",
      " 26  tot_cur_bal                          68817 non-null  float64\n",
      " 27  open_acc_6m                          68817 non-null  float64\n",
      " 28  open_act_il                          68817 non-null  float64\n",
      " 29  open_il_12m                          68817 non-null  float64\n",
      " 30  open_il_24m                          68817 non-null  float64\n",
      " 31  mths_since_rcnt_il                   68817 non-null  float64\n",
      " 32  total_bal_il                         68817 non-null  float64\n",
      " 33  il_util                              68817 non-null  float64\n",
      " 34  open_rv_12m                          68817 non-null  float64\n",
      " 35  open_rv_24m                          68817 non-null  float64\n",
      " 36  max_bal_bc                           68817 non-null  float64\n",
      " 37  all_util                             68817 non-null  float64\n",
      " 38  total_rev_hi_lim                     68817 non-null  float64\n",
      " 39  inq_fi                               68817 non-null  float64\n",
      " 40  total_cu_tl                          68817 non-null  float64\n",
      " 41  inq_last_12m                         68817 non-null  float64\n",
      " 42  acc_open_past_24mths                 68817 non-null  float64\n",
      " 43  avg_cur_bal                          68817 non-null  float64\n",
      " 44  bc_open_to_buy                       68817 non-null  float64\n",
      " 45  bc_util                              68817 non-null  float64\n",
      " 46  chargeoff_within_12_mths             68817 non-null  float64\n",
      " 47  delinq_amnt                          68817 non-null  float64\n",
      " 48  mo_sin_old_il_acct                   68817 non-null  float64\n",
      " 49  mo_sin_old_rev_tl_op                 68817 non-null  float64\n",
      " 50  mo_sin_rcnt_rev_tl_op                68817 non-null  float64\n",
      " 51  mo_sin_rcnt_tl                       68817 non-null  float64\n",
      " 52  mort_acc                             68817 non-null  float64\n",
      " 53  mths_since_recent_bc                 68817 non-null  float64\n",
      " 54  mths_since_recent_inq                68817 non-null  float64\n",
      " 55  num_accts_ever_120_pd                68817 non-null  float64\n",
      " 56  num_actv_bc_tl                       68817 non-null  float64\n",
      " 57  num_actv_rev_tl                      68817 non-null  float64\n",
      " 58  num_bc_sats                          68817 non-null  float64\n",
      " 59  num_bc_tl                            68817 non-null  float64\n",
      " 60  num_il_tl                            68817 non-null  float64\n",
      " 61  num_op_rev_tl                        68817 non-null  float64\n",
      " 62  num_rev_accts                        68817 non-null  float64\n",
      " 63  num_rev_tl_bal_gt_0                  68817 non-null  float64\n",
      " 64  num_sats                             68817 non-null  float64\n",
      " 65  num_tl_120dpd_2m                     68817 non-null  float64\n",
      " 66  num_tl_30dpd                         68817 non-null  float64\n",
      " 67  num_tl_90g_dpd_24m                   68817 non-null  float64\n",
      " 68  num_tl_op_past_12m                   68817 non-null  float64\n",
      " 69  pct_tl_nvr_dlq                       68817 non-null  float64\n",
      " 70  percent_bc_gt_75                     68817 non-null  float64\n",
      " 71  pub_rec_bankruptcies                 68817 non-null  float64\n",
      " 72  tax_liens                            68817 non-null  float64\n",
      " 73  tot_hi_cred_lim                      68817 non-null  float64\n",
      " 74  total_bal_ex_mort                    68817 non-null  float64\n",
      " 75  total_bc_limit                       68817 non-null  float64\n",
      " 76  total_il_high_credit_limit           68817 non-null  float64\n",
      " 77  home_ownership_ANY                   68817 non-null  uint8  \n",
      " 78  home_ownership_MORTGAGE              68817 non-null  uint8  \n",
      " 79  home_ownership_OWN                   68817 non-null  uint8  \n",
      " 80  home_ownership_RENT                  68817 non-null  uint8  \n",
      " 81  verification_status_Not Verified     68817 non-null  uint8  \n",
      " 82  verification_status_Source Verified  68817 non-null  uint8  \n",
      " 83  verification_status_Verified         68817 non-null  uint8  \n",
      " 84  pymnt_plan_n                         68817 non-null  uint8  \n",
      " 85  initial_list_status_f                68817 non-null  uint8  \n",
      " 86  initial_list_status_w                68817 non-null  uint8  \n",
      " 87  next_pymnt_d_Apr-2019                68817 non-null  uint8  \n",
      " 88  next_pymnt_d_May-2019                68817 non-null  uint8  \n",
      " 89  application_type_Individual          68817 non-null  uint8  \n",
      " 90  application_type_Joint App           68817 non-null  uint8  \n",
      " 91  hardship_flag_N                      68817 non-null  uint8  \n",
      " 92  debt_settlement_flag_N               68817 non-null  uint8  \n",
      "dtypes: float64(76), object(1), uint8(16)\n",
      "memory usage: 42.0+ MB\n"
     ]
    }
   ],
   "source": [
    "binary_encoded_df = pd.get_dummies(df, columns =['home_ownership', 'verification_status', 'pymnt_plan','initial_list_status','next_pymnt_d','application_type','hardship_flag','debt_settlement_flag'])\n",
    "binary_encoded_df.info()"
   ]
  },
  {
   "cell_type": "markdown",
   "metadata": {},
   "source": [
    "## Split the Data into Training and Testing"
   ]
  },
  {
   "cell_type": "code",
   "execution_count": 55,
   "metadata": {},
   "outputs": [],
   "source": [
    "# Create our features\n",
    "X = df.drop(columns='loan_status')\n",
    "X = pd.get_dummies(X)\n",
    "\n",
    "# Create our target\n",
    "target = [\"loan_status\"]\n",
    "y = df.loc[:, target].copy()\n"
   ]
  },
  {
   "cell_type": "code",
   "execution_count": 56,
   "metadata": {},
   "outputs": [
    {
     "data": {
      "text/html": [
       "<div>\n",
       "<style scoped>\n",
       "    .dataframe tbody tr th:only-of-type {\n",
       "        vertical-align: middle;\n",
       "    }\n",
       "\n",
       "    .dataframe tbody tr th {\n",
       "        vertical-align: top;\n",
       "    }\n",
       "\n",
       "    .dataframe thead th {\n",
       "        text-align: right;\n",
       "    }\n",
       "</style>\n",
       "<table border=\"1\" class=\"dataframe\">\n",
       "  <thead>\n",
       "    <tr style=\"text-align: right;\">\n",
       "      <th></th>\n",
       "      <th>loan_amnt</th>\n",
       "      <th>int_rate</th>\n",
       "      <th>installment</th>\n",
       "      <th>annual_inc</th>\n",
       "      <th>dti</th>\n",
       "      <th>delinq_2yrs</th>\n",
       "      <th>inq_last_6mths</th>\n",
       "      <th>open_acc</th>\n",
       "      <th>pub_rec</th>\n",
       "      <th>revol_bal</th>\n",
       "      <th>...</th>\n",
       "      <th>verification_status_Verified</th>\n",
       "      <th>pymnt_plan_n</th>\n",
       "      <th>initial_list_status_f</th>\n",
       "      <th>initial_list_status_w</th>\n",
       "      <th>next_pymnt_d_Apr-2019</th>\n",
       "      <th>next_pymnt_d_May-2019</th>\n",
       "      <th>application_type_Individual</th>\n",
       "      <th>application_type_Joint App</th>\n",
       "      <th>hardship_flag_N</th>\n",
       "      <th>debt_settlement_flag_N</th>\n",
       "    </tr>\n",
       "  </thead>\n",
       "  <tbody>\n",
       "    <tr>\n",
       "      <th>count</th>\n",
       "      <td>68817.000000</td>\n",
       "      <td>68817.000000</td>\n",
       "      <td>68817.000000</td>\n",
       "      <td>6.881700e+04</td>\n",
       "      <td>68817.000000</td>\n",
       "      <td>68817.000000</td>\n",
       "      <td>68817.000000</td>\n",
       "      <td>68817.000000</td>\n",
       "      <td>68817.000000</td>\n",
       "      <td>68817.000000</td>\n",
       "      <td>...</td>\n",
       "      <td>68817.000000</td>\n",
       "      <td>68817.0</td>\n",
       "      <td>68817.000000</td>\n",
       "      <td>68817.000000</td>\n",
       "      <td>68817.000000</td>\n",
       "      <td>68817.000000</td>\n",
       "      <td>68817.000000</td>\n",
       "      <td>68817.000000</td>\n",
       "      <td>68817.0</td>\n",
       "      <td>68817.0</td>\n",
       "    </tr>\n",
       "    <tr>\n",
       "      <th>mean</th>\n",
       "      <td>16677.594562</td>\n",
       "      <td>0.127718</td>\n",
       "      <td>480.652863</td>\n",
       "      <td>8.821371e+04</td>\n",
       "      <td>21.778153</td>\n",
       "      <td>0.217766</td>\n",
       "      <td>0.497697</td>\n",
       "      <td>12.587340</td>\n",
       "      <td>0.126030</td>\n",
       "      <td>17604.142828</td>\n",
       "      <td>...</td>\n",
       "      <td>0.148001</td>\n",
       "      <td>1.0</td>\n",
       "      <td>0.123879</td>\n",
       "      <td>0.876121</td>\n",
       "      <td>0.383161</td>\n",
       "      <td>0.616839</td>\n",
       "      <td>0.860340</td>\n",
       "      <td>0.139660</td>\n",
       "      <td>1.0</td>\n",
       "      <td>1.0</td>\n",
       "    </tr>\n",
       "    <tr>\n",
       "      <th>std</th>\n",
       "      <td>10277.348590</td>\n",
       "      <td>0.048130</td>\n",
       "      <td>288.062432</td>\n",
       "      <td>1.155800e+05</td>\n",
       "      <td>20.199244</td>\n",
       "      <td>0.718367</td>\n",
       "      <td>0.758122</td>\n",
       "      <td>6.022869</td>\n",
       "      <td>0.336797</td>\n",
       "      <td>21835.880400</td>\n",
       "      <td>...</td>\n",
       "      <td>0.355104</td>\n",
       "      <td>0.0</td>\n",
       "      <td>0.329446</td>\n",
       "      <td>0.329446</td>\n",
       "      <td>0.486161</td>\n",
       "      <td>0.486161</td>\n",
       "      <td>0.346637</td>\n",
       "      <td>0.346637</td>\n",
       "      <td>0.0</td>\n",
       "      <td>0.0</td>\n",
       "    </tr>\n",
       "    <tr>\n",
       "      <th>min</th>\n",
       "      <td>1000.000000</td>\n",
       "      <td>0.060000</td>\n",
       "      <td>30.890000</td>\n",
       "      <td>4.000000e+01</td>\n",
       "      <td>0.000000</td>\n",
       "      <td>0.000000</td>\n",
       "      <td>0.000000</td>\n",
       "      <td>2.000000</td>\n",
       "      <td>0.000000</td>\n",
       "      <td>0.000000</td>\n",
       "      <td>...</td>\n",
       "      <td>0.000000</td>\n",
       "      <td>1.0</td>\n",
       "      <td>0.000000</td>\n",
       "      <td>0.000000</td>\n",
       "      <td>0.000000</td>\n",
       "      <td>0.000000</td>\n",
       "      <td>0.000000</td>\n",
       "      <td>0.000000</td>\n",
       "      <td>1.0</td>\n",
       "      <td>1.0</td>\n",
       "    </tr>\n",
       "    <tr>\n",
       "      <th>25%</th>\n",
       "      <td>9000.000000</td>\n",
       "      <td>0.088100</td>\n",
       "      <td>265.730000</td>\n",
       "      <td>5.000000e+04</td>\n",
       "      <td>13.890000</td>\n",
       "      <td>0.000000</td>\n",
       "      <td>0.000000</td>\n",
       "      <td>8.000000</td>\n",
       "      <td>0.000000</td>\n",
       "      <td>6293.000000</td>\n",
       "      <td>...</td>\n",
       "      <td>0.000000</td>\n",
       "      <td>1.0</td>\n",
       "      <td>0.000000</td>\n",
       "      <td>1.000000</td>\n",
       "      <td>0.000000</td>\n",
       "      <td>0.000000</td>\n",
       "      <td>1.000000</td>\n",
       "      <td>0.000000</td>\n",
       "      <td>1.0</td>\n",
       "      <td>1.0</td>\n",
       "    </tr>\n",
       "    <tr>\n",
       "      <th>50%</th>\n",
       "      <td>15000.000000</td>\n",
       "      <td>0.118000</td>\n",
       "      <td>404.560000</td>\n",
       "      <td>7.300000e+04</td>\n",
       "      <td>19.760000</td>\n",
       "      <td>0.000000</td>\n",
       "      <td>0.000000</td>\n",
       "      <td>11.000000</td>\n",
       "      <td>0.000000</td>\n",
       "      <td>12068.000000</td>\n",
       "      <td>...</td>\n",
       "      <td>0.000000</td>\n",
       "      <td>1.0</td>\n",
       "      <td>0.000000</td>\n",
       "      <td>1.000000</td>\n",
       "      <td>0.000000</td>\n",
       "      <td>1.000000</td>\n",
       "      <td>1.000000</td>\n",
       "      <td>0.000000</td>\n",
       "      <td>1.0</td>\n",
       "      <td>1.0</td>\n",
       "    </tr>\n",
       "    <tr>\n",
       "      <th>75%</th>\n",
       "      <td>24000.000000</td>\n",
       "      <td>0.155700</td>\n",
       "      <td>648.100000</td>\n",
       "      <td>1.040000e+05</td>\n",
       "      <td>26.660000</td>\n",
       "      <td>0.000000</td>\n",
       "      <td>1.000000</td>\n",
       "      <td>16.000000</td>\n",
       "      <td>0.000000</td>\n",
       "      <td>21735.000000</td>\n",
       "      <td>...</td>\n",
       "      <td>0.000000</td>\n",
       "      <td>1.0</td>\n",
       "      <td>0.000000</td>\n",
       "      <td>1.000000</td>\n",
       "      <td>1.000000</td>\n",
       "      <td>1.000000</td>\n",
       "      <td>1.000000</td>\n",
       "      <td>0.000000</td>\n",
       "      <td>1.0</td>\n",
       "      <td>1.0</td>\n",
       "    </tr>\n",
       "    <tr>\n",
       "      <th>max</th>\n",
       "      <td>40000.000000</td>\n",
       "      <td>0.308400</td>\n",
       "      <td>1676.230000</td>\n",
       "      <td>8.797500e+06</td>\n",
       "      <td>999.000000</td>\n",
       "      <td>18.000000</td>\n",
       "      <td>5.000000</td>\n",
       "      <td>72.000000</td>\n",
       "      <td>4.000000</td>\n",
       "      <td>587191.000000</td>\n",
       "      <td>...</td>\n",
       "      <td>1.000000</td>\n",
       "      <td>1.0</td>\n",
       "      <td>1.000000</td>\n",
       "      <td>1.000000</td>\n",
       "      <td>1.000000</td>\n",
       "      <td>1.000000</td>\n",
       "      <td>1.000000</td>\n",
       "      <td>1.000000</td>\n",
       "      <td>1.0</td>\n",
       "      <td>1.0</td>\n",
       "    </tr>\n",
       "  </tbody>\n",
       "</table>\n",
       "<p>8 rows × 92 columns</p>\n",
       "</div>"
      ],
      "text/plain": [
       "          loan_amnt      int_rate   installment    annual_inc           dti  \\\n",
       "count  68817.000000  68817.000000  68817.000000  6.881700e+04  68817.000000   \n",
       "mean   16677.594562      0.127718    480.652863  8.821371e+04     21.778153   \n",
       "std    10277.348590      0.048130    288.062432  1.155800e+05     20.199244   \n",
       "min     1000.000000      0.060000     30.890000  4.000000e+01      0.000000   \n",
       "25%     9000.000000      0.088100    265.730000  5.000000e+04     13.890000   \n",
       "50%    15000.000000      0.118000    404.560000  7.300000e+04     19.760000   \n",
       "75%    24000.000000      0.155700    648.100000  1.040000e+05     26.660000   \n",
       "max    40000.000000      0.308400   1676.230000  8.797500e+06    999.000000   \n",
       "\n",
       "        delinq_2yrs  inq_last_6mths      open_acc       pub_rec  \\\n",
       "count  68817.000000    68817.000000  68817.000000  68817.000000   \n",
       "mean       0.217766        0.497697     12.587340      0.126030   \n",
       "std        0.718367        0.758122      6.022869      0.336797   \n",
       "min        0.000000        0.000000      2.000000      0.000000   \n",
       "25%        0.000000        0.000000      8.000000      0.000000   \n",
       "50%        0.000000        0.000000     11.000000      0.000000   \n",
       "75%        0.000000        1.000000     16.000000      0.000000   \n",
       "max       18.000000        5.000000     72.000000      4.000000   \n",
       "\n",
       "           revol_bal  ...  verification_status_Verified  pymnt_plan_n  \\\n",
       "count   68817.000000  ...                  68817.000000       68817.0   \n",
       "mean    17604.142828  ...                      0.148001           1.0   \n",
       "std     21835.880400  ...                      0.355104           0.0   \n",
       "min         0.000000  ...                      0.000000           1.0   \n",
       "25%      6293.000000  ...                      0.000000           1.0   \n",
       "50%     12068.000000  ...                      0.000000           1.0   \n",
       "75%     21735.000000  ...                      0.000000           1.0   \n",
       "max    587191.000000  ...                      1.000000           1.0   \n",
       "\n",
       "       initial_list_status_f  initial_list_status_w  next_pymnt_d_Apr-2019  \\\n",
       "count           68817.000000           68817.000000           68817.000000   \n",
       "mean                0.123879               0.876121               0.383161   \n",
       "std                 0.329446               0.329446               0.486161   \n",
       "min                 0.000000               0.000000               0.000000   \n",
       "25%                 0.000000               1.000000               0.000000   \n",
       "50%                 0.000000               1.000000               0.000000   \n",
       "75%                 0.000000               1.000000               1.000000   \n",
       "max                 1.000000               1.000000               1.000000   \n",
       "\n",
       "       next_pymnt_d_May-2019  application_type_Individual  \\\n",
       "count           68817.000000                 68817.000000   \n",
       "mean                0.616839                     0.860340   \n",
       "std                 0.486161                     0.346637   \n",
       "min                 0.000000                     0.000000   \n",
       "25%                 0.000000                     1.000000   \n",
       "50%                 1.000000                     1.000000   \n",
       "75%                 1.000000                     1.000000   \n",
       "max                 1.000000                     1.000000   \n",
       "\n",
       "       application_type_Joint App  hardship_flag_N  debt_settlement_flag_N  \n",
       "count                68817.000000          68817.0                 68817.0  \n",
       "mean                     0.139660              1.0                     1.0  \n",
       "std                      0.346637              0.0                     0.0  \n",
       "min                      0.000000              1.0                     1.0  \n",
       "25%                      0.000000              1.0                     1.0  \n",
       "50%                      0.000000              1.0                     1.0  \n",
       "75%                      0.000000              1.0                     1.0  \n",
       "max                      1.000000              1.0                     1.0  \n",
       "\n",
       "[8 rows x 92 columns]"
      ]
     },
     "execution_count": 56,
     "metadata": {},
     "output_type": "execute_result"
    }
   ],
   "source": [
    "X.describe()"
   ]
  },
  {
   "cell_type": "code",
   "execution_count": 57,
   "metadata": {},
   "outputs": [
    {
     "data": {
      "text/plain": [
       "low_risk     68470\n",
       "high_risk      347\n",
       "Name: loan_status, dtype: int64"
      ]
     },
     "execution_count": 57,
     "metadata": {},
     "output_type": "execute_result"
    }
   ],
   "source": [
    "# Check the balance of our target values\n",
    "df['loan_status'].value_counts()"
   ]
  },
  {
   "cell_type": "code",
   "execution_count": 58,
   "metadata": {},
   "outputs": [
    {
     "data": {
      "text/plain": [
       "(51612, 92)"
      ]
     },
     "execution_count": 58,
     "metadata": {},
     "output_type": "execute_result"
    }
   ],
   "source": [
    "# Split the X and y into X_train, X_test, y_train, y_test\n",
    "\n",
    "X_train, X_test, y_train, y_test = train_test_split(X, y, random_state=1, stratify=y)\n",
    "\n",
    "X_train.shape"
   ]
  },
  {
   "cell_type": "markdown",
   "metadata": {},
   "source": [
    "## Data Pre-Processing\n",
    "\n",
    "Scale the training and testing data using the `StandardScaler` from `sklearn`. Remember that when scaling the data, you only scale the features data (`X_train` and `X_testing`)."
   ]
  },
  {
   "cell_type": "code",
   "execution_count": 59,
   "metadata": {},
   "outputs": [],
   "source": [
    "# Create the StandardScaler instance\n",
    "from sklearn.preprocessing import StandardScaler\n",
    "data_scaler = StandardScaler()"
   ]
  },
  {
   "cell_type": "code",
   "execution_count": 60,
   "metadata": {},
   "outputs": [
    {
     "data": {
      "text/plain": [
       "StandardScaler()"
      ]
     },
     "execution_count": 60,
     "metadata": {},
     "output_type": "execute_result"
    }
   ],
   "source": [
    "# Fit the Standard Scaler with the training data\n",
    "# When fitting scaling functions, only train on the training dataset\n",
    "X_scaler = data_scaler.fit(X_train)\n",
    "X_scaler"
   ]
  },
  {
   "cell_type": "code",
   "execution_count": 61,
   "metadata": {},
   "outputs": [],
   "source": [
    "# Scale the training and testing data\n",
    "X_train_scaled = X_scaler.transform(X_train)\n",
    "X_test_scaled = X_scaler.transform(X_test)\n"
   ]
  },
  {
   "cell_type": "markdown",
   "metadata": {},
   "source": [
    "## Ensemble Learners\n",
    "\n",
    "In this section, you will compare two ensemble algorithms to determine which algorithm results in the best performance. You will train a Balanced Random Forest Classifier and an Easy Ensemble classifier . For each algorithm, be sure to complete the folliowing steps:\n",
    "\n",
    "1. Train the model using the training data. \n",
    "2. Calculate the balanced accuracy score from sklearn.metrics.\n",
    "3. Display the confusion matrix from sklearn.metrics.\n",
    "4. Generate a classication report using the `imbalanced_classification_report` from imbalanced-learn.\n",
    "5. For the Balanced Random Forest Classifier only, print the feature importance sorted in descending order (most important feature to least important) along with the feature score\n",
    "\n",
    "Note: Use a random state of 1 for each algorithm to ensure consistency between tests"
   ]
  },
  {
   "cell_type": "markdown",
   "metadata": {},
   "source": [
    "### Balanced Random Forest Classifier"
   ]
  },
  {
   "cell_type": "code",
   "execution_count": 64,
   "metadata": {},
   "outputs": [
    {
     "data": {
      "text/plain": [
       "RandomForestClassifier(random_state=1)"
      ]
     },
     "execution_count": 64,
     "metadata": {},
     "output_type": "execute_result"
    }
   ],
   "source": [
    "# Resample the training data with the BalancedRandomForestClassifier\n",
    "rf_model = RandomForestClassifier(n_estimators = 100, random_state = 1)\n",
    "rf_model.fit(X_train_scaled, y_train)"
   ]
  },
  {
   "cell_type": "code",
   "execution_count": 65,
   "metadata": {},
   "outputs": [
    {
     "data": {
      "text/plain": [
       "0.6490747791193783"
      ]
     },
     "execution_count": 65,
     "metadata": {},
     "output_type": "execute_result"
    }
   ],
   "source": [
    "# Calculated the balanced accuracy score\n",
    "y_pred = rf_model.predict(X_test_scaled)\n",
    "balanced_accuracy_score(y_test, y_pred)"
   ]
  },
  {
   "cell_type": "code",
   "execution_count": 66,
   "metadata": {},
   "outputs": [
    {
     "data": {
      "text/plain": [
       "array([[   26,    61],\n",
       "       [   12, 17106]], dtype=int64)"
      ]
     },
     "execution_count": 66,
     "metadata": {},
     "output_type": "execute_result"
    }
   ],
   "source": [
    "# Display the confusion matrix\n",
    "confusion_matrix(y_test, y_pred)"
   ]
  },
  {
   "cell_type": "code",
   "execution_count": 67,
   "metadata": {},
   "outputs": [
    {
     "name": "stdout",
     "output_type": "stream",
     "text": [
      "                   pre       rec       spe        f1       geo       iba       sup\n",
      "\n",
      "  high_risk       0.68      0.30      1.00      0.42      0.55      0.28        87\n",
      "   low_risk       1.00      1.00      0.30      1.00      0.55      0.32     17118\n",
      "\n",
      "avg / total       0.99      1.00      0.30      0.99      0.55      0.32     17205\n",
      "\n"
     ]
    }
   ],
   "source": [
    "# Print the imbalanced classification report\n",
    "print(classification_report_imbalanced(y_test, y_pred))"
   ]
  },
  {
   "cell_type": "code",
   "execution_count": 68,
   "metadata": {},
   "outputs": [
    {
     "data": {
      "text/plain": [
       "[(0.07797760885159455, 'total_rec_int'),\n",
       " (0.06369988514786096, 'last_pymnt_amnt'),\n",
       " (0.06304033390219775, 'total_pymnt'),\n",
       " (0.06261650245037574, 'total_pymnt_inv'),\n",
       " (0.059319306893811444, 'total_rec_prncp'),\n",
       " (0.017727738854647707, 'out_prncp_inv'),\n",
       " (0.01658935845661797, 'installment'),\n",
       " (0.016501994744745365, 'mo_sin_old_il_acct'),\n",
       " (0.016346941740589985, 'revol_bal'),\n",
       " (0.016333393009448152, 'total_rec_late_fee'),\n",
       " (0.016092033841037013, 'mo_sin_old_rev_tl_op'),\n",
       " (0.015939154020555072, 'tot_cur_bal'),\n",
       " (0.015904781861977316, 'dti'),\n",
       " (0.015554847774414461, 'bc_open_to_buy'),\n",
       " (0.015426292876281117, 'tot_hi_cred_lim'),\n",
       " (0.015334199644022101, 'total_bal_ex_mort'),\n",
       " (0.01519723940739414, 'max_bal_bc'),\n",
       " (0.01482329147796266, 'out_prncp'),\n",
       " (0.01480718072338848, 'total_bal_il'),\n",
       " (0.014706955077939161, 'avg_cur_bal'),\n",
       " (0.014619825631701697, 'annual_inc'),\n",
       " (0.014458742460282841, 'bc_util'),\n",
       " (0.013939715097261269, 'total_bc_limit'),\n",
       " (0.013611027459292081, 'total_rev_hi_lim'),\n",
       " (0.013044781361202705, 'il_util'),\n",
       " (0.012431686709470353, 'mths_since_recent_bc'),\n",
       " (0.012338484543134147, 'total_acc'),\n",
       " (0.012303738260853568, 'num_il_tl'),\n",
       " (0.012112273046679665, 'total_il_high_credit_limit'),\n",
       " (0.011361844272295836, 'int_rate'),\n",
       " (0.011173936465966774, 'num_actv_bc_tl'),\n",
       " (0.011039232220166706, 'mths_since_rcnt_il'),\n",
       " (0.01103788114075305, 'all_util'),\n",
       " (0.011029176522884156, 'num_actv_rev_tl'),\n",
       " (0.010800284790137487, 'loan_amnt'),\n",
       " (0.010697843565976962, 'mo_sin_rcnt_rev_tl_op'),\n",
       " (0.010558569972767592, 'num_bc_tl'),\n",
       " (0.010490475099424166, 'num_rev_tl_bal_gt_0'),\n",
       " (0.010240945120313618, 'num_rev_accts'),\n",
       " (0.010062601787702772, 'mths_since_recent_inq'),\n",
       " (0.009745687504501827, 'open_acc'),\n",
       " (0.009087296011526337, 'num_sats'),\n",
       " (0.00904631147338396, 'mo_sin_rcnt_tl'),\n",
       " (0.00891553081744139, 'inq_last_12m'),\n",
       " (0.008861521862447081, 'acc_open_past_24mths'),\n",
       " (0.008856136080800403, 'num_op_rev_tl'),\n",
       " (0.008681514327649846, 'pct_tl_nvr_dlq'),\n",
       " (0.008101340922463873, 'total_cu_tl'),\n",
       " (0.008021507371575616, 'open_rv_24m'),\n",
       " (0.007481903339867151, 'open_il_24m'),\n",
       " (0.006789366380841377, 'mort_acc'),\n",
       " (0.006608477710649264, 'percent_bc_gt_75'),\n",
       " (0.00650515499181236, 'open_acc_6m'),\n",
       " (0.006448152406913948, 'inq_last_6mths'),\n",
       " (0.006260307606582349, 'inq_fi'),\n",
       " (0.00602532581277818, 'num_tl_op_past_12m'),\n",
       " (0.005968915089042454, 'open_act_il'),\n",
       " (0.005701387626870085, 'num_bc_sats'),\n",
       " (0.005062382076271323, 'open_rv_12m'),\n",
       " (0.0050373290304383655, 'open_il_12m'),\n",
       " (0.004835156570162442, 'next_pymnt_d_Apr-2019'),\n",
       " (0.004522287370545016, 'delinq_2yrs'),\n",
       " (0.004406080583277394, 'next_pymnt_d_May-2019'),\n",
       " (0.003838378046811435, 'tot_coll_amt'),\n",
       " (0.0034206612282441967, 'pub_rec_bankruptcies'),\n",
       " (0.0032720671765449714, 'num_accts_ever_120_pd'),\n",
       " (0.00252927456504198, 'verification_status_Not Verified'),\n",
       " (0.002510549635386324, 'verification_status_Source Verified'),\n",
       " (0.002428397182983727, 'pub_rec'),\n",
       " (0.002402299740674579, 'verification_status_Verified'),\n",
       " (0.0023847640600378178, 'home_ownership_MORTGAGE'),\n",
       " (0.00235110706280039, 'home_ownership_OWN'),\n",
       " (0.0021122859580710467, 'num_tl_90g_dpd_24m'),\n",
       " (0.001962623750073349, 'application_type_Individual'),\n",
       " (0.0018608033942884546, 'application_type_Joint App'),\n",
       " (0.001502138562862237, 'initial_list_status_f'),\n",
       " (0.0014550166000673165, 'home_ownership_RENT'),\n",
       " (0.0014335936515127278, 'initial_list_status_w'),\n",
       " (0.0010909757131524742, 'home_ownership_ANY'),\n",
       " (0.0009065988671371507, 'collections_12_mths_ex_med'),\n",
       " (0.00027728555133915174, 'chargeoff_within_12_mths'),\n",
       " (0.0, 'tax_liens'),\n",
       " (0.0, 'recoveries'),\n",
       " (0.0, 'pymnt_plan_n'),\n",
       " (0.0, 'policy_code'),\n",
       " (0.0, 'num_tl_30dpd'),\n",
       " (0.0, 'num_tl_120dpd_2m'),\n",
       " (0.0, 'hardship_flag_N'),\n",
       " (0.0, 'delinq_amnt'),\n",
       " (0.0, 'debt_settlement_flag_N'),\n",
       " (0.0, 'collection_recovery_fee'),\n",
       " (0.0, 'acc_now_delinq')]"
      ]
     },
     "execution_count": 68,
     "metadata": {},
     "output_type": "execute_result"
    }
   ],
   "source": [
    "# List the features sorted in descending order by feature importance\n",
    "importances = rf_model.feature_importances_\n",
    "sorted(zip(rf_model.feature_importances_, X.columns), reverse=True)"
   ]
  },
  {
   "cell_type": "markdown",
   "metadata": {},
   "source": [
    "### Easy Ensemble Classifier"
   ]
  },
  {
   "cell_type": "code",
   "execution_count": 69,
   "metadata": {},
   "outputs": [
    {
     "data": {
      "text/plain": [
       "EasyEnsembleClassifier(n_estimators=500, random_state=1)"
      ]
     },
     "execution_count": 69,
     "metadata": {},
     "output_type": "execute_result"
    }
   ],
   "source": [
    "# Train the Classifier\n",
    "ee_model = EasyEnsembleClassifier(n_estimators = 500, random_state = 1)\n",
    "ee_model.fit(X_train_scaled, y_train)"
   ]
  },
  {
   "cell_type": "code",
   "execution_count": 70,
   "metadata": {},
   "outputs": [
    {
     "data": {
      "text/plain": [
       "0.75222089270822"
      ]
     },
     "execution_count": 70,
     "metadata": {},
     "output_type": "execute_result"
    }
   ],
   "source": [
    "# Calculated the balanced accuracy score\n",
    "y_pred = ee_model.predict(X_test_scaled)\n",
    "balanced_accuracy_score(y_test, y_pred)"
   ]
  },
  {
   "cell_type": "code",
   "execution_count": 71,
   "metadata": {},
   "outputs": [
    {
     "data": {
      "text/plain": [
       "array([[   62,    25],\n",
       "       [ 3564, 13554]], dtype=int64)"
      ]
     },
     "execution_count": 71,
     "metadata": {},
     "output_type": "execute_result"
    }
   ],
   "source": [
    "# Display the confusion matrix\n",
    "confusion_matrix(y_test, y_pred)"
   ]
  },
  {
   "cell_type": "code",
   "execution_count": 72,
   "metadata": {},
   "outputs": [
    {
     "name": "stdout",
     "output_type": "stream",
     "text": [
      "                   pre       rec       spe        f1       geo       iba       sup\n",
      "\n",
      "  high_risk       0.02      0.71      0.79      0.03      0.75      0.56        87\n",
      "   low_risk       1.00      0.79      0.71      0.88      0.75      0.57     17118\n",
      "\n",
      "avg / total       0.99      0.79      0.71      0.88      0.75      0.57     17205\n",
      "\n"
     ]
    }
   ],
   "source": [
    "# Print the imbalanced classification report\n",
    "print(classification_report_imbalanced(y_test, y_pred))"
   ]
  },
  {
   "cell_type": "code",
   "execution_count": null,
   "metadata": {},
   "outputs": [],
   "source": [
    "### Final Questions\n",
    "\n",
    "1. Which model had the best balanced accuracy score?\n",
    "\n",
    "    ## The Easy Ensemble has the best balanced accuracy score.\n",
    "\n",
    "2. Which model had the best recall score?\n",
    "\n",
    "    The Balanced Random Forrest Classifer has the best recall score.\n",
    "\n",
    "3. Which model had the best geometric mean score?\n",
    "\n",
    "    ## The Easy Ensemble has the best balanced accuracy score\n",
    "\n",
    "4. What are the top three features?\n",
    "\n",
    "    ## Precision, Recall & Fl-Score"
   ]
  },
  {
   "cell_type": "code",
   "execution_count": null,
   "metadata": {},
   "outputs": [],
   "source": []
  }
 ],
 "metadata": {
  "kernelspec": {
   "display_name": "Python [conda env:pyvizenv] *",
   "language": "python",
   "name": "conda-env-pyvizenv-py"
  },
  "language_info": {
   "codemirror_mode": {
    "name": "ipython",
    "version": 3
   },
   "file_extension": ".py",
   "mimetype": "text/x-python",
   "name": "python",
   "nbconvert_exporter": "python",
   "pygments_lexer": "ipython3",
   "version": "3.7.11"
  }
 },
 "nbformat": 4,
 "nbformat_minor": 4
}
